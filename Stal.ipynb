{
  "nbformat": 4,
  "nbformat_minor": 0,
  "metadata": {
    "colab": {
      "provenance": []
    },
    "kernelspec": {
      "name": "python3",
      "display_name": "Python 3"
    },
    "language_info": {
      "name": "python"
    }
  },
  "cells": [
    {
      "cell_type": "code",
      "execution_count": null,
      "metadata": {
        "colab": {
          "base_uri": "https://localhost:8080/"
        },
        "id": "k9bH7UHA3A8O",
        "outputId": "cbc7282f-bfbe-4d09-c941-3e46dbb2b803"
      },
      "outputs": [
        {
          "output_type": "stream",
          "name": "stdout",
          "text": [
            "   Операция       Дата     Время  Пользов\n",
            "0      2006 2018-01-02  23:07:41    30169\n",
            "1      2006 2018-01-02  23:07:47    30169\n",
            "2      2006 2018-01-02  23:07:52    30169\n",
            "3      2006 2018-01-02  23:08:00    30169\n",
            "4      2006 2018-01-02  23:08:04    30169\n"
          ]
        }
      ],
      "source": [
        "import pandas as pd\n",
        "file_path = '/content/Task1.xlsx'\n",
        "df=pd.read_excel(file_path)\n",
        "print(df.head())"
      ]
    },
    {
      "cell_type": "code",
      "source": [],
      "metadata": {
        "id": "GEV1TNLS55dq"
      },
      "execution_count": null,
      "outputs": []
    },
    {
      "cell_type": "code",
      "source": [
        "n_rows = len(df.index)\n",
        "n_columns = len(df.columns)\n",
        "\n",
        "print(f\"Количество строк: {n_rows}\")\n",
        "print(f\"Количество столбцов: {n_columns}\")"
      ],
      "metadata": {
        "colab": {
          "base_uri": "https://localhost:8080/"
        },
        "id": "FZOPLrlH6qLs",
        "outputId": "d9a0cab5-657c-4317-e1aa-e394fa61fe2e"
      },
      "execution_count": null,
      "outputs": [
        {
          "output_type": "stream",
          "name": "stdout",
          "text": [
            "Количество строк: 52921\n",
            "Количество столбцов: 4\n"
          ]
        }
      ]
    },
    {
      "cell_type": "code",
      "source": [
        "print(\"Типы данных в колонках:\")\n",
        "print(df.dtypes)"
      ],
      "metadata": {
        "colab": {
          "base_uri": "https://localhost:8080/"
        },
        "id": "-6ApRPfr5vKK",
        "outputId": "e845d7dd-d2ce-43a7-ac8f-25117820f55a"
      },
      "execution_count": null,
      "outputs": [
        {
          "output_type": "stream",
          "name": "stdout",
          "text": [
            "Типы данных в колонках:\n",
            "Операция             int64\n",
            "Дата        datetime64[ns]\n",
            "Время               object\n",
            "Пользов              int64\n",
            "dtype: object\n"
          ]
        }
      ]
    },
    {
      "cell_type": "code",
      "source": [
        "if sum(df.duplicated()) == 0:\n",
        "    print(\"Дубликатов не обнаружено\")\n",
        "else:\n",
        "    print(\"Обнаружены дубликаты\")"
      ],
      "metadata": {
        "colab": {
          "base_uri": "https://localhost:8080/"
        },
        "id": "qFOawmaE53a_",
        "outputId": "471d1f92-4cf4-4df1-d054-a96fa0baaa5f"
      },
      "execution_count": null,
      "outputs": [
        {
          "output_type": "stream",
          "name": "stdout",
          "text": [
            "Обнаружены дубликаты\n"
          ]
        }
      ]
    },
    {
      "cell_type": "code",
      "source": [
        "if sum(df.isnull().values.ravel()) == 0:\n",
        "    print(\"Пропусков не обнаружено\")\n",
        "else:\n",
        "    print(\"Обнаружены пропуски\")"
      ],
      "metadata": {
        "colab": {
          "base_uri": "https://localhost:8080/"
        },
        "id": "0cZ6BEBj6Ehi",
        "outputId": "b8940185-b881-4ac3-cf50-1f3d69686dff"
      },
      "execution_count": null,
      "outputs": [
        {
          "output_type": "stream",
          "name": "stdout",
          "text": [
            "Пропусков не обнаружено\n"
          ]
        }
      ]
    },
    {
      "cell_type": "code",
      "source": [
        "duplicates = df[df.duplicated()]\n",
        "print(duplicates)"
      ],
      "metadata": {
        "colab": {
          "base_uri": "https://localhost:8080/"
        },
        "id": "BE46MwVK6z7R",
        "outputId": "69378976-8366-45fd-a87d-a8ee0179938c"
      },
      "execution_count": null,
      "outputs": [
        {
          "output_type": "stream",
          "name": "stdout",
          "text": [
            "       Операция       Дата     Время  Пользов\n",
            "13183        14 2018-01-03  12:07:06    38891\n",
            "24110      2006 2018-01-03  14:10:03    38830\n",
            "24263      2006 2018-01-03  14:11:13    38830\n",
            "24437      2006 2018-01-03  14:11:59    38830\n",
            "25071      2006 2018-01-03  14:14:10    38830\n"
          ]
        }
      ]
    },
    {
      "cell_type": "code",
      "source": [
        "users_count = df['Пользов'].value_counts().shape[0]\n",
        "operations_count = df['Операция'].value_counts().shape[0]\n",
        "print(users_count)\n",
        "print(operations_count)"
      ],
      "metadata": {
        "colab": {
          "base_uri": "https://localhost:8080/"
        },
        "id": "xTEW1Deb8EXU",
        "outputId": "a40e26db-20af-4ffc-c21b-d8362545b61d"
      },
      "execution_count": null,
      "outputs": [
        {
          "output_type": "stream",
          "name": "stdout",
          "text": [
            "51\n",
            "39\n"
          ]
        }
      ]
    },
    {
      "cell_type": "code",
      "source": [
        "print(f\"Уникальные пользователи: {df['Пользов'].unique()}\")"
      ],
      "metadata": {
        "colab": {
          "base_uri": "https://localhost:8080/"
        },
        "id": "sd1_DfA18_14",
        "outputId": "c2956e3c-6971-4703-bb8a-5c6a3cb740ea"
      },
      "execution_count": null,
      "outputs": [
        {
          "output_type": "stream",
          "name": "stdout",
          "text": [
            "Уникальные пользователи: [30169 39217 39102 39982 30156 39149 40134 38862 38830 39106 39152 39037\n",
            " 38840 39022 40138 39478 39328 30159 38982 30161 39094 30172 38891 39068\n",
            " 39315 30153 39099 39318 39519 39772 38753 30170 38955 30168 39317 39789\n",
            " 38922 38835 39174 38868 39430 39107 40044 38923 39158 39086 30182 30134\n",
            " 39084 38962 39143]\n"
          ]
        }
      ]
    },
    {
      "cell_type": "code",
      "source": [
        "print(f\"Уникальные операции: {df['Операция'].unique()}\")"
      ],
      "metadata": {
        "colab": {
          "base_uri": "https://localhost:8080/"
        },
        "id": "b2P5P1Ek9GMy",
        "outputId": "3b3119a6-034b-4d15-89eb-2f20ad61f4d0"
      },
      "execution_count": null,
      "outputs": [
        {
          "output_type": "stream",
          "name": "stdout",
          "text": [
            "Уникальные операции: [2006 2001   14 9001 2002   15 2003    7   27  758 2010  759    0    1\n",
            " 9003  298    8 3330  860  294  861    6   21    9  416    2 2007   41\n",
            "   16  552  267  290   22 9002   37  293   19  299    4]\n"
          ]
        }
      ]
    },
    {
      "cell_type": "code",
      "source": [
        "grouped_df = df.groupby('Пользов')['Операция'].nunique()\n",
        "user_operation_counts = grouped_df.to_frame('Количество операций').reset_index()\n",
        "print(user_operation_counts)"
      ],
      "metadata": {
        "colab": {
          "base_uri": "https://localhost:8080/"
        },
        "id": "R8W0UqNG-b67",
        "outputId": "2d885709-141a-40c5-b441-65db7f00207e"
      },
      "execution_count": null,
      "outputs": [
        {
          "output_type": "stream",
          "name": "stdout",
          "text": [
            "    Пользов  Количество операций\n",
            "0     30134                    4\n",
            "1     30153                   26\n",
            "2     30156                   22\n",
            "3     30159                   26\n",
            "4     30161                   24\n",
            "5     30168                   19\n",
            "6     30169                    8\n",
            "7     30170                    8\n",
            "8     30172                   15\n",
            "9     30182                   10\n",
            "10    38753                   19\n",
            "11    38830                   21\n",
            "12    38835                    9\n",
            "13    38840                   24\n",
            "14    38862                    9\n",
            "15    38868                   19\n",
            "16    38891                   27\n",
            "17    38922                   13\n",
            "18    38923                   12\n",
            "19    38955                    5\n",
            "20    38962                   21\n",
            "21    38982                   18\n",
            "22    39022                   24\n",
            "23    39037                   21\n",
            "24    39068                    9\n",
            "25    39084                   26\n",
            "26    39086                    7\n",
            "27    39094                   11\n",
            "28    39099                   15\n",
            "29    39102                   22\n",
            "30    39106                   20\n",
            "31    39107                    2\n",
            "32    39143                    7\n",
            "33    39149                    7\n",
            "34    39152                   16\n",
            "35    39158                    9\n",
            "36    39174                   10\n",
            "37    39217                   14\n",
            "38    39315                   25\n",
            "39    39317                   10\n",
            "40    39318                   25\n",
            "41    39328                   21\n",
            "42    39430                   12\n",
            "43    39478                   11\n",
            "44    39519                    9\n",
            "45    39772                   12\n",
            "46    39789                   12\n",
            "47    39982                    7\n",
            "48    40044                    8\n",
            "49    40134                   24\n",
            "50    40138                   12\n"
          ]
        }
      ]
    },
    {
      "cell_type": "code",
      "source": [
        "current_date = pd.to_datetime('today').date()\n",
        "df['Время'] = pd.to_datetime(df['Время'].apply(lambda x: f'{current_date} {x}'))\n",
        "df = df.sort_values(by=['Пользов', 'Время'])\n",
        "df['Продолжительность'] = df.groupby('Пользов')['Время'].diff().shift(-1)\n",
        "df['Продолжительность'] = df['Продолжительность'].dt.total_seconds() / 60\n",
        "df = df[df['Продолжительность'] <= 20]\n",
        "median_duration = df.groupby('Операция')['Продолжительность'].median()\n",
        "median_duration_str = median_duration.apply(lambda x: str(pd.to_timedelta(x, unit='m')))\n",
        "print(\"DataFrame с продолжительностью операций в минутах (без операций длиннее 20 минут):\")\n",
        "print(df)\n",
        "print(\"\\nМедианное время продолжительности каждой операции (в минутах):\")\n",
        "print(median_duration)\n",
        "print (median_duration_str)\n",
        "\n",
        "\n"
      ],
      "metadata": {
        "colab": {
          "base_uri": "https://localhost:8080/"
        },
        "id": "Gzay4-p3DaHb",
        "outputId": "9ad30149-72e5-4e39-fbf6-9354c1e759cb"
      },
      "execution_count": null,
      "outputs": [
        {
          "output_type": "stream",
          "name": "stderr",
          "text": [
            "<ipython-input-42-e92ca3b9dedb>:3: UserWarning: Could not infer format, so each element will be parsed individually, falling back to `dateutil`. To ensure parsing is consistent and as-expected, please specify a format.\n",
            "  df['Время'] = pd.to_datetime(df['Время'].apply(lambda x: f'{current_date} {x}'))\n"
          ]
        },
        {
          "output_type": "stream",
          "name": "stdout",
          "text": [
            "DataFrame с продолжительностью операций в минутах (без операций длиннее 20 минут):\n",
            "       Операция       Дата                     Время  Пользов  \\\n",
            "33432        15 2018-01-09 2024-08-01 08:42:28-01:00    30134   \n",
            "33445        15 2018-01-09 2024-08-01 08:45:17-01:00    30134   \n",
            "33508        15 2018-01-09 2024-08-01 09:02:12-01:00    30134   \n",
            "33520        15 2018-01-09 2024-08-01 09:04:17-01:00    30134   \n",
            "33539        15 2018-01-09 2024-08-01 09:05:36-01:00    30134   \n",
            "...         ...        ...                       ...      ...   \n",
            "42873      2002 2018-01-09 2024-08-01 18:26:58-01:00    40138   \n",
            "51552      2001 2018-01-10 2024-08-01 18:27:21-01:00    40138   \n",
            "51562      3330 2018-01-10 2024-08-01 18:28:42-01:00    40138   \n",
            "51567      2001 2018-01-10 2024-08-01 18:28:58-01:00    40138   \n",
            "51592      2001 2018-01-10 2024-08-01 18:33:15-01:00    40138   \n",
            "\n",
            "       Продолжительность  \n",
            "33432           2.816667  \n",
            "33445          16.916667  \n",
            "33508           2.083333  \n",
            "33520           1.316667  \n",
            "33539           0.483333  \n",
            "...                  ...  \n",
            "42873           0.383333  \n",
            "51552           1.350000  \n",
            "51562           0.266667  \n",
            "51567           4.283333  \n",
            "51592           2.816667  \n",
            "\n",
            "[52465 rows x 5 columns]\n",
            "\n",
            "Медианное время продолжительности каждой операции (в минутах):\n",
            "Операция\n",
            "0       0.216667\n",
            "1       0.050000\n",
            "2       0.441667\n",
            "4       2.500000\n",
            "6       0.150000\n",
            "7       0.133333\n",
            "8       0.366667\n",
            "9       1.366667\n",
            "14      0.016667\n",
            "15      0.150000\n",
            "16      0.466667\n",
            "19      0.083333\n",
            "21      0.433333\n",
            "22      0.633333\n",
            "27      1.041667\n",
            "37      0.916667\n",
            "41      0.191667\n",
            "267     0.050000\n",
            "290     0.516667\n",
            "293     1.091667\n",
            "294     0.500000\n",
            "298     0.533333\n",
            "299     0.050000\n",
            "416     0.208333\n",
            "552     0.083333\n",
            "758     0.016667\n",
            "759     0.016667\n",
            "860     0.233333\n",
            "861     0.150000\n",
            "2001    0.233333\n",
            "2002    0.100000\n",
            "2003    0.233333\n",
            "2006    0.050000\n",
            "2007    0.050000\n",
            "2010    0.116667\n",
            "3330    0.133333\n",
            "9001    0.166667\n",
            "9002    0.350000\n",
            "9003    0.183333\n",
            "Name: Продолжительность, dtype: float64\n",
            "Операция\n",
            "0       0 days 00:00:13.000000002\n",
            "1                 0 days 00:00:03\n",
            "2       0 days 00:00:26.500000002\n",
            "4                 0 days 00:02:30\n",
            "6                 0 days 00:00:09\n",
            "7       0 days 00:00:07.999999998\n",
            "8       0 days 00:00:22.000000002\n",
            "9       0 days 00:01:22.000000002\n",
            "14      0 days 00:00:01.000000002\n",
            "15                0 days 00:00:09\n",
            "16      0 days 00:00:28.000000002\n",
            "19      0 days 00:00:04.999999998\n",
            "21      0 days 00:00:25.999999998\n",
            "22      0 days 00:00:37.999999998\n",
            "27      0 days 00:01:02.500000002\n",
            "37      0 days 00:00:55.000000002\n",
            "41      0 days 00:00:11.500000002\n",
            "267               0 days 00:00:03\n",
            "290     0 days 00:00:31.000000002\n",
            "293     0 days 00:01:05.500000002\n",
            "294               0 days 00:00:30\n",
            "298     0 days 00:00:31.999999998\n",
            "299               0 days 00:00:03\n",
            "416     0 days 00:00:12.499999998\n",
            "552     0 days 00:00:04.999999998\n",
            "758     0 days 00:00:01.000000002\n",
            "759     0 days 00:00:01.000000002\n",
            "860     0 days 00:00:13.999999998\n",
            "861               0 days 00:00:09\n",
            "2001    0 days 00:00:13.999999998\n",
            "2002              0 days 00:00:06\n",
            "2003    0 days 00:00:13.999999998\n",
            "2006              0 days 00:00:03\n",
            "2007              0 days 00:00:03\n",
            "2010    0 days 00:00:07.000000002\n",
            "3330    0 days 00:00:07.999999998\n",
            "9001    0 days 00:00:10.000000002\n",
            "9002              0 days 00:00:21\n",
            "9003    0 days 00:00:10.999999998\n",
            "Name: Продолжительность, dtype: object\n"
          ]
        }
      ]
    },
    {
      "cell_type": "code",
      "source": [
        "median_df = pd.DataFrame({\n",
        "    'Операция': median_duration.index,\n",
        "    'Медианное время (минуты)': median_duration.values,\n",
        "    'Медианное время (hh:mm:ss)': median_duration_str.values\n",
        "})\n",
        "median_df.to_excel('median_durations.xlsx', index=False)"
      ],
      "metadata": {
        "id": "weOKxDeBek5R"
      },
      "execution_count": null,
      "outputs": []
    }
  ]
}